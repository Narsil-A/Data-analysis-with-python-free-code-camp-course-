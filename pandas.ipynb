{
 "cells": [
  {
   "cell_type": "code",
   "execution_count": 3,
   "metadata": {},
   "outputs": [
    {
     "data": {
      "text/plain": [
       "{'mean': [[3.0, 4.0, 5.0], [1.0, 4.0, 7.0], 4.0],\n",
       " 'variance': [[6.0, 6.0, 6.0],\n",
       "  [0.6666666666666666, 0.6666666666666666, 0.6666666666666666],\n",
       "  6.666666666666667],\n",
       " 'standard deviation': [[2.449489742783178,\n",
       "   2.449489742783178,\n",
       "   2.449489742783178],\n",
       "  [0.816496580927726, 0.816496580927726, 0.816496580927726],\n",
       "  2.581988897471611],\n",
       " 'max': [[6, 7, 8], [2, 5, 8], 8],\n",
       " 'min': [[0, 1, 2], [0, 3, 6], 0],\n",
       " 'sum': [[9, 12, 15], [3, 12, 21], 36]}"
      ]
     },
     "execution_count": 3,
     "metadata": {},
     "output_type": "execute_result"
    }
   ],
   "source": [
    "# Importing the numpy library\n",
    "import numpy as np\n",
    "\n",
    "def calculate(numbers):\n",
    "    # Check if the list has nine numbers\n",
    "    if len(numbers) != 9:\n",
    "        raise ValueError(\"List must contain nine numbers.\")\n",
    "    \n",
    "    # Convert the list into a 3 x 3 Numpy array\n",
    "    matrix = np.array(numbers).reshape(3, 3)\n",
    "    \n",
    "    # Initialize an empty dictionary to hold the calculations\n",
    "    calculations = {}\n",
    "    \n",
    "    # Define the metrics and their corresponding numpy functions\n",
    "    metrics = [\n",
    "        ('mean', np.mean),\n",
    "        ('variance', np.var),\n",
    "        ('standard deviation', np.std),\n",
    "        ('max', np.max),\n",
    "        ('min', np.min),\n",
    "        ('sum', np.sum)\n",
    "    ]\n",
    "    \n",
    "    # Loop through each metric and its function to perform calculations\n",
    "    for name, func in metrics:\n",
    "        calculations[name] = [\n",
    "            func(matrix, axis=0).tolist(),  # Calculations along the first axis (columns)\n",
    "            func(matrix, axis=1).tolist(),  # Calculations along the second axis (rows)\n",
    "            func(matrix).tolist()           # Calculations for the flattened matrix\n",
    "        ]\n",
    "    \n",
    "    # Return the calculations dictionary\n",
    "    return calculations\n",
    "\n",
    "# Test the function\n",
    "result = calculate([0, 1, 2, 3, 4, 5, 6, 7, 8])\n",
    "result\n",
    "\n",
    "\n"
   ]
  }
 ],
 "metadata": {
  "kernelspec": {
   "display_name": "Python 3",
   "language": "python",
   "name": "python3"
  },
  "language_info": {
   "codemirror_mode": {
    "name": "ipython",
    "version": 3
   },
   "file_extension": ".py",
   "mimetype": "text/x-python",
   "name": "python",
   "nbconvert_exporter": "python",
   "pygments_lexer": "ipython3",
   "version": "3.11.5"
  }
 },
 "nbformat": 4,
 "nbformat_minor": 2
}
